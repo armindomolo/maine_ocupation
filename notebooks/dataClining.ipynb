{
 "cells": [
  {
   "cell_type": "markdown",
   "id": "a00b06da",
   "metadata": {},
   "source": [
    "# Data Clining dos dados:\n"
   ]
  },
  {
   "cell_type": "markdown",
   "id": "592f479f",
   "metadata": {},
   "source": [
    "## Validacacao dos dados:"
   ]
  },
  {
   "cell_type": "code",
   "execution_count": 13,
   "id": "eb0f2e5d",
   "metadata": {},
   "outputs": [],
   "source": [
    "\n",
    "# importacao dos dados\n",
    "import pandas as pd\n",
    "import polars as pl\n",
    "import numpy as np\n",
    "import seaborn as sb\n",
    "import plotly.express as px\n",
    "import matplotlib.pyplot as plt\n",
    "import os\n"
   ]
  },
  {
   "cell_type": "code",
   "execution_count": 19,
   "id": "6a3a198e",
   "metadata": {},
   "outputs": [],
   "source": [
    "# mudar o diretorio:\n",
    "os.chdir('/Users/moloarmindo/itCareer/projetos/data_science/maine_ocupation')"
   ]
  },
  {
   "cell_type": "code",
   "execution_count": null,
   "id": "31a9b89a",
   "metadata": {},
   "outputs": [],
   "source": [
    "# funcores personalizadas\n",
    "from src import utils"
   ]
  },
  {
   "cell_type": "code",
   "execution_count": 23,
   "id": "7fc8d7a5",
   "metadata": {},
   "outputs": [
    {
     "data": {
      "application/vnd.microsoft.datawrangler.viewer.v0+json": {
       "columns": [
        {
         "name": "index",
         "rawType": "int64",
         "type": "integer"
        },
        {
         "name": "Major Occupation Group ID",
         "rawType": "object",
         "type": "string"
        },
        {
         "name": "Major Occupation Group",
         "rawType": "object",
         "type": "string"
        },
        {
         "name": "Minor Occupation Group ID",
         "rawType": "object",
         "type": "string"
        },
        {
         "name": "Minor Occupation Group",
         "rawType": "object",
         "type": "string"
        },
        {
         "name": "Broad Occupation ID",
         "rawType": "object",
         "type": "string"
        },
        {
         "name": "Broad Occupation",
         "rawType": "object",
         "type": "string"
        },
        {
         "name": "Detailed Occupation ID",
         "rawType": "object",
         "type": "string"
        },
        {
         "name": "Detailed Occupation",
         "rawType": "object",
         "type": "string"
        },
        {
         "name": "Year",
         "rawType": "int64",
         "type": "integer"
        },
        {
         "name": "Average Wage",
         "rawType": "float64",
         "type": "float"
        },
        {
         "name": "Average Wage Appx MOE",
         "rawType": "float64",
         "type": "float"
        },
        {
         "name": "Record Count",
         "rawType": "float64",
         "type": "float"
        },
        {
         "name": "Total Population",
         "rawType": "float64",
         "type": "float"
        }
       ],
       "ref": "6a799f54-cbc5-4c1b-94f8-1fa6336a8a83",
       "rows": [
        [
         "4956",
         "550000",
         "Military specific occupations",
         "550000",
         "Military specific occupations",
         "550000",
         "Military specific occupations",
         "559830",
         "Military, rank not specified",
         "2019",
         "38440.98857142857",
         "41573.17225842407",
         "13.0",
         "175.0"
        ],
        [
         "4957",
         "550000",
         "Military specific occupations",
         "550000",
         "Military specific occupations",
         "550000",
         "Military specific occupations",
         "559830",
         "Military, rank not specified",
         "2020",
         "36540.041176470586",
         "46061.23403373253",
         "15.0",
         "170.0"
        ],
        [
         "4958",
         "550000",
         "Military specific occupations",
         "550000",
         "Military specific occupations",
         "550000",
         "Military specific occupations",
         "559830",
         "Military, rank not specified",
         "2021",
         "46390.9",
         "63367.005876790354",
         "8.0",
         "100.0"
        ],
        [
         "4959",
         "550000",
         "Military specific occupations",
         "550000",
         "Military specific occupations",
         "550000",
         "Military specific occupations",
         "559830",
         "Military, rank not specified",
         "2022",
         "42433.03571428572",
         "48707.158706150185",
         "10.0",
         "140.0"
        ],
        [
         "4960",
         "550000",
         "Military specific occupations",
         "550000",
         "Military specific occupations",
         "550000",
         "Military specific occupations",
         "559830",
         "Military, rank not specified",
         "2023",
         "67467.89940828402",
         "84299.27050147782",
         "10.0",
         "169.0"
        ]
       ],
       "shape": {
        "columns": 13,
        "rows": 5
       }
      },
      "text/html": [
       "<div>\n",
       "<style scoped>\n",
       "    .dataframe tbody tr th:only-of-type {\n",
       "        vertical-align: middle;\n",
       "    }\n",
       "\n",
       "    .dataframe tbody tr th {\n",
       "        vertical-align: top;\n",
       "    }\n",
       "\n",
       "    .dataframe thead th {\n",
       "        text-align: right;\n",
       "    }\n",
       "</style>\n",
       "<table border=\"1\" class=\"dataframe\">\n",
       "  <thead>\n",
       "    <tr style=\"text-align: right;\">\n",
       "      <th></th>\n",
       "      <th>Major Occupation Group ID</th>\n",
       "      <th>Major Occupation Group</th>\n",
       "      <th>Minor Occupation Group ID</th>\n",
       "      <th>Minor Occupation Group</th>\n",
       "      <th>Broad Occupation ID</th>\n",
       "      <th>Broad Occupation</th>\n",
       "      <th>Detailed Occupation ID</th>\n",
       "      <th>Detailed Occupation</th>\n",
       "      <th>Year</th>\n",
       "      <th>Average Wage</th>\n",
       "      <th>Average Wage Appx MOE</th>\n",
       "      <th>Record Count</th>\n",
       "      <th>Total Population</th>\n",
       "    </tr>\n",
       "  </thead>\n",
       "  <tbody>\n",
       "    <tr>\n",
       "      <th>4956</th>\n",
       "      <td>550000</td>\n",
       "      <td>Military specific occupations</td>\n",
       "      <td>550000</td>\n",
       "      <td>Military specific occupations</td>\n",
       "      <td>550000</td>\n",
       "      <td>Military specific occupations</td>\n",
       "      <td>559830</td>\n",
       "      <td>Military, rank not specified</td>\n",
       "      <td>2019</td>\n",
       "      <td>38440.988571</td>\n",
       "      <td>41573.172258</td>\n",
       "      <td>13.0</td>\n",
       "      <td>175.0</td>\n",
       "    </tr>\n",
       "    <tr>\n",
       "      <th>4957</th>\n",
       "      <td>550000</td>\n",
       "      <td>Military specific occupations</td>\n",
       "      <td>550000</td>\n",
       "      <td>Military specific occupations</td>\n",
       "      <td>550000</td>\n",
       "      <td>Military specific occupations</td>\n",
       "      <td>559830</td>\n",
       "      <td>Military, rank not specified</td>\n",
       "      <td>2020</td>\n",
       "      <td>36540.041176</td>\n",
       "      <td>46061.234034</td>\n",
       "      <td>15.0</td>\n",
       "      <td>170.0</td>\n",
       "    </tr>\n",
       "    <tr>\n",
       "      <th>4958</th>\n",
       "      <td>550000</td>\n",
       "      <td>Military specific occupations</td>\n",
       "      <td>550000</td>\n",
       "      <td>Military specific occupations</td>\n",
       "      <td>550000</td>\n",
       "      <td>Military specific occupations</td>\n",
       "      <td>559830</td>\n",
       "      <td>Military, rank not specified</td>\n",
       "      <td>2021</td>\n",
       "      <td>46390.900000</td>\n",
       "      <td>63367.005877</td>\n",
       "      <td>8.0</td>\n",
       "      <td>100.0</td>\n",
       "    </tr>\n",
       "    <tr>\n",
       "      <th>4959</th>\n",
       "      <td>550000</td>\n",
       "      <td>Military specific occupations</td>\n",
       "      <td>550000</td>\n",
       "      <td>Military specific occupations</td>\n",
       "      <td>550000</td>\n",
       "      <td>Military specific occupations</td>\n",
       "      <td>559830</td>\n",
       "      <td>Military, rank not specified</td>\n",
       "      <td>2022</td>\n",
       "      <td>42433.035714</td>\n",
       "      <td>48707.158706</td>\n",
       "      <td>10.0</td>\n",
       "      <td>140.0</td>\n",
       "    </tr>\n",
       "    <tr>\n",
       "      <th>4960</th>\n",
       "      <td>550000</td>\n",
       "      <td>Military specific occupations</td>\n",
       "      <td>550000</td>\n",
       "      <td>Military specific occupations</td>\n",
       "      <td>550000</td>\n",
       "      <td>Military specific occupations</td>\n",
       "      <td>559830</td>\n",
       "      <td>Military, rank not specified</td>\n",
       "      <td>2023</td>\n",
       "      <td>67467.899408</td>\n",
       "      <td>84299.270501</td>\n",
       "      <td>10.0</td>\n",
       "      <td>169.0</td>\n",
       "    </tr>\n",
       "  </tbody>\n",
       "</table>\n",
       "</div>"
      ],
      "text/plain": [
       "     Major Occupation Group ID         Major Occupation Group  \\\n",
       "4956                    550000  Military specific occupations   \n",
       "4957                    550000  Military specific occupations   \n",
       "4958                    550000  Military specific occupations   \n",
       "4959                    550000  Military specific occupations   \n",
       "4960                    550000  Military specific occupations   \n",
       "\n",
       "     Minor Occupation Group ID         Minor Occupation Group  \\\n",
       "4956                    550000  Military specific occupations   \n",
       "4957                    550000  Military specific occupations   \n",
       "4958                    550000  Military specific occupations   \n",
       "4959                    550000  Military specific occupations   \n",
       "4960                    550000  Military specific occupations   \n",
       "\n",
       "     Broad Occupation ID               Broad Occupation  \\\n",
       "4956              550000  Military specific occupations   \n",
       "4957              550000  Military specific occupations   \n",
       "4958              550000  Military specific occupations   \n",
       "4959              550000  Military specific occupations   \n",
       "4960              550000  Military specific occupations   \n",
       "\n",
       "     Detailed Occupation ID           Detailed Occupation  Year  Average Wage  \\\n",
       "4956                 559830  Military, rank not specified  2019  38440.988571   \n",
       "4957                 559830  Military, rank not specified  2020  36540.041176   \n",
       "4958                 559830  Military, rank not specified  2021  46390.900000   \n",
       "4959                 559830  Military, rank not specified  2022  42433.035714   \n",
       "4960                 559830  Military, rank not specified  2023  67467.899408   \n",
       "\n",
       "      Average Wage Appx MOE  Record Count  Total Population  \n",
       "4956           41573.172258          13.0             175.0  \n",
       "4957           46061.234034          15.0             170.0  \n",
       "4958           63367.005877           8.0             100.0  \n",
       "4959           48707.158706          10.0             140.0  \n",
       "4960           84299.270501          10.0             169.0  "
      ]
     },
     "execution_count": 23,
     "metadata": {},
     "output_type": "execute_result"
    }
   ],
   "source": [
    "# vrificando os dados\n",
    "df = pd.read_csv('data/processed/dados_ocupation.csv')\n",
    "df.head()\n",
    "df.tail()\n"
   ]
  },
  {
   "cell_type": "markdown",
   "id": "15e6e745",
   "metadata": {},
   "source": [
    "* Verificacao dos dados faltantes:"
   ]
  },
  {
   "cell_type": "code",
   "execution_count": null,
   "id": "33aa3d7c",
   "metadata": {},
   "outputs": [
    {
     "data": {
      "application/vnd.microsoft.datawrangler.viewer.v0+json": {
       "columns": [
        {
         "name": "index",
         "rawType": "object",
         "type": "string"
        },
        {
         "name": "0",
         "rawType": "int64",
         "type": "integer"
        }
       ],
       "ref": "24a9ca57-3570-438b-871f-0c3a2e7f3bf7",
       "rows": [
        [
         "Major Occupation Group ID",
         "0"
        ],
        [
         "Major Occupation Group",
         "0"
        ],
        [
         "Minor Occupation Group ID",
         "0"
        ],
        [
         "Minor Occupation Group",
         "0"
        ],
        [
         "Broad Occupation ID",
         "0"
        ],
        [
         "Broad Occupation",
         "0"
        ],
        [
         "Detailed Occupation ID",
         "0"
        ],
        [
         "Detailed Occupation",
         "0"
        ],
        [
         "Year",
         "0"
        ],
        [
         "Average Wage",
         "0"
        ],
        [
         "Average Wage Appx MOE",
         "11"
        ],
        [
         "Record Count",
         "0"
        ],
        [
         "Total Population",
         "0"
        ]
       ],
       "shape": {
        "columns": 1,
        "rows": 13
       }
      },
      "text/plain": [
       "Major Occupation Group ID     0\n",
       "Major Occupation Group        0\n",
       "Minor Occupation Group ID     0\n",
       "Minor Occupation Group        0\n",
       "Broad Occupation ID           0\n",
       "Broad Occupation              0\n",
       "Detailed Occupation ID        0\n",
       "Detailed Occupation           0\n",
       "Year                          0\n",
       "Average Wage                  0\n",
       "Average Wage Appx MOE        11\n",
       "Record Count                  0\n",
       "Total Population              0\n",
       "dtype: int64"
      ]
     },
     "execution_count": 34,
     "metadata": {},
     "output_type": "execute_result"
    }
   ],
   "source": [
    "missing_values = df.isnull().sum()\n",
    "missing_values\n"
   ]
  },
  {
   "cell_type": "code",
   "execution_count": null,
   "id": "66e78c27",
   "metadata": {},
   "outputs": [],
   "source": [
    "# dados como missing values \n",
    "def print_numero_registro(df, *args) -> None:\n",
    "   print(df.groupby(*args).size().sort_values(ascending=False))"
   ]
  },
  {
   "cell_type": "markdown",
   "id": "5527c015",
   "metadata": {},
   "source": [
    "## Analise Descritiva"
   ]
  },
  {
   "cell_type": "code",
   "execution_count": 41,
   "id": "43d19459",
   "metadata": {},
   "outputs": [],
   "source": [
    "# Selecionar os valores categoricos para vermos se ouve mudanca de ocupacao:\n",
    "valoresCategoricos = ['Major Occupation Group ID', 'Major Occupation Group', 'Minor Occupation Group ID', 'Minor Occupation Group', 'Broad Occupation ID', 'Broad Occupation', 'Detailed Occupation ID', 'Detailed Occupation']\n",
    "dfCategorico = df[valoresCategoricos]"
   ]
  },
  {
   "cell_type": "code",
   "execution_count": 42,
   "id": "83965f1e",
   "metadata": {},
   "outputs": [
    {
     "data": {
      "application/vnd.microsoft.datawrangler.viewer.v0+json": {
       "columns": [
        {
         "name": "index",
         "rawType": "int64",
         "type": "integer"
        },
        {
         "name": "Major Occupation Group ID",
         "rawType": "object",
         "type": "string"
        },
        {
         "name": "Major Occupation Group",
         "rawType": "object",
         "type": "string"
        },
        {
         "name": "Minor Occupation Group ID",
         "rawType": "object",
         "type": "string"
        },
        {
         "name": "Minor Occupation Group",
         "rawType": "object",
         "type": "string"
        },
        {
         "name": "Broad Occupation ID",
         "rawType": "object",
         "type": "string"
        },
        {
         "name": "Broad Occupation",
         "rawType": "object",
         "type": "string"
        },
        {
         "name": "Detailed Occupation ID",
         "rawType": "object",
         "type": "string"
        },
        {
         "name": "Detailed Occupation",
         "rawType": "object",
         "type": "string"
        }
       ],
       "ref": "d76b111e-dca9-412d-8e23-847eb24ebe20",
       "rows": [
        [
         "0",
         "110000-290000",
         "Management, business, science, & arts occupations",
         "110000-130000",
         "Management, business, & financial occupations",
         "110000",
         "Management occupations",
         "111021",
         "General & operations managers"
        ],
        [
         "1",
         "110000-290000",
         "Management, business, science, & arts occupations",
         "110000-130000",
         "Management, business, & financial occupations",
         "110000",
         "Management occupations",
         "111021",
         "General & operations managers"
        ],
        [
         "2",
         "110000-290000",
         "Management, business, science, & arts occupations",
         "110000-130000",
         "Management, business, & financial occupations",
         "110000",
         "Management occupations",
         "111021",
         "General & operations managers"
        ],
        [
         "3",
         "110000-290000",
         "Management, business, science, & arts occupations",
         "110000-130000",
         "Management, business, & financial occupations",
         "110000",
         "Management occupations",
         "111021",
         "General & operations managers"
        ],
        [
         "4",
         "110000-290000",
         "Management, business, science, & arts occupations",
         "110000-130000",
         "Management, business, & financial occupations",
         "110000",
         "Management occupations",
         "111021",
         "General & operations managers"
        ],
        [
         "5",
         "110000-290000",
         "Management, business, science, & arts occupations",
         "110000-130000",
         "Management, business, & financial occupations",
         "110000",
         "Management occupations",
         "111021",
         "General & operations managers"
        ],
        [
         "6",
         "110000-290000",
         "Management, business, science, & arts occupations",
         "110000-130000",
         "Management, business, & financial occupations",
         "110000",
         "Management occupations",
         "111021",
         "General & operations managers"
        ],
        [
         "7",
         "110000-290000",
         "Management, business, science, & arts occupations",
         "110000-130000",
         "Management, business, & financial occupations",
         "110000",
         "Management occupations",
         "111021",
         "General & operations managers"
        ],
        [
         "8",
         "110000-290000",
         "Management, business, science, & arts occupations",
         "110000-130000",
         "Management, business, & financial occupations",
         "110000",
         "Management occupations",
         "111021",
         "General & operations managers"
        ],
        [
         "9",
         "110000-290000",
         "Management, business, science, & arts occupations",
         "110000-130000",
         "Management, business, & financial occupations",
         "110000",
         "Management occupations",
         "111021",
         "General & operations managers"
        ],
        [
         "10",
         "110000-290000",
         "Management, business, science, & arts occupations",
         "110000-130000",
         "Management, business, & financial occupations",
         "110000",
         "Management occupations",
         "1110XX",
         "Chief executives & legislators"
        ],
        [
         "11",
         "110000-290000",
         "Management, business, science, & arts occupations",
         "110000-130000",
         "Management, business, & financial occupations",
         "110000",
         "Management occupations",
         "1110XX",
         "Chief executives & legislators"
        ],
        [
         "12",
         "110000-290000",
         "Management, business, science, & arts occupations",
         "110000-130000",
         "Management, business, & financial occupations",
         "110000",
         "Management occupations",
         "1110XX",
         "Chief executives & legislators"
        ],
        [
         "13",
         "110000-290000",
         "Management, business, science, & arts occupations",
         "110000-130000",
         "Management, business, & financial occupations",
         "110000",
         "Management occupations",
         "1110XX",
         "Chief executives & legislators"
        ],
        [
         "14",
         "110000-290000",
         "Management, business, science, & arts occupations",
         "110000-130000",
         "Management, business, & financial occupations",
         "110000",
         "Management occupations",
         "1110XX",
         "Chief executives & legislators"
        ],
        [
         "15",
         "110000-290000",
         "Management, business, science, & arts occupations",
         "110000-130000",
         "Management, business, & financial occupations",
         "110000",
         "Management occupations",
         "1110XX",
         "Chief executives & legislators"
        ],
        [
         "16",
         "110000-290000",
         "Management, business, science, & arts occupations",
         "110000-130000",
         "Management, business, & financial occupations",
         "110000",
         "Management occupations",
         "1110XX",
         "Chief executives & legislators"
        ],
        [
         "17",
         "110000-290000",
         "Management, business, science, & arts occupations",
         "110000-130000",
         "Management, business, & financial occupations",
         "110000",
         "Management occupations",
         "1110XX",
         "Chief executives & legislators"
        ],
        [
         "18",
         "110000-290000",
         "Management, business, science, & arts occupations",
         "110000-130000",
         "Management, business, & financial occupations",
         "110000",
         "Management occupations",
         "1110XX",
         "Chief executives & legislators"
        ],
        [
         "19",
         "110000-290000",
         "Management, business, science, & arts occupations",
         "110000-130000",
         "Management, business, & financial occupations",
         "110000",
         "Management occupations",
         "1110XX",
         "Chief executives & legislators"
        ],
        [
         "20",
         "110000-290000",
         "Management, business, science, & arts occupations",
         "110000-130000",
         "Management, business, & financial occupations",
         "110000",
         "Management occupations",
         "112011",
         "Advertising & promotions managers"
        ],
        [
         "21",
         "110000-290000",
         "Management, business, science, & arts occupations",
         "110000-130000",
         "Management, business, & financial occupations",
         "110000",
         "Management occupations",
         "112011",
         "Advertising & promotions managers"
        ],
        [
         "22",
         "110000-290000",
         "Management, business, science, & arts occupations",
         "110000-130000",
         "Management, business, & financial occupations",
         "110000",
         "Management occupations",
         "112011",
         "Advertising & promotions managers"
        ],
        [
         "23",
         "110000-290000",
         "Management, business, science, & arts occupations",
         "110000-130000",
         "Management, business, & financial occupations",
         "110000",
         "Management occupations",
         "112011",
         "Advertising & promotions managers"
        ],
        [
         "24",
         "110000-290000",
         "Management, business, science, & arts occupations",
         "110000-130000",
         "Management, business, & financial occupations",
         "110000",
         "Management occupations",
         "112011",
         "Advertising & promotions managers"
        ],
        [
         "25",
         "110000-290000",
         "Management, business, science, & arts occupations",
         "110000-130000",
         "Management, business, & financial occupations",
         "110000",
         "Management occupations",
         "112011",
         "Advertising & promotions managers"
        ],
        [
         "26",
         "110000-290000",
         "Management, business, science, & arts occupations",
         "110000-130000",
         "Management, business, & financial occupations",
         "110000",
         "Management occupations",
         "112011",
         "Advertising & promotions managers"
        ],
        [
         "27",
         "110000-290000",
         "Management, business, science, & arts occupations",
         "110000-130000",
         "Management, business, & financial occupations",
         "110000",
         "Management occupations",
         "112011",
         "Advertising & promotions managers"
        ],
        [
         "28",
         "110000-290000",
         "Management, business, science, & arts occupations",
         "110000-130000",
         "Management, business, & financial occupations",
         "110000",
         "Management occupations",
         "112011",
         "Advertising & promotions managers"
        ],
        [
         "29",
         "110000-290000",
         "Management, business, science, & arts occupations",
         "110000-130000",
         "Management, business, & financial occupations",
         "110000",
         "Management occupations",
         "112011",
         "Advertising & promotions managers"
        ],
        [
         "30",
         "110000-290000",
         "Management, business, science, & arts occupations",
         "110000-130000",
         "Management, business, & financial occupations",
         "110000",
         "Management occupations",
         "112020",
         "Marketing & sales managers"
        ],
        [
         "31",
         "110000-290000",
         "Management, business, science, & arts occupations",
         "110000-130000",
         "Management, business, & financial occupations",
         "110000",
         "Management occupations",
         "112020",
         "Marketing & sales managers"
        ],
        [
         "32",
         "110000-290000",
         "Management, business, science, & arts occupations",
         "110000-130000",
         "Management, business, & financial occupations",
         "110000",
         "Management occupations",
         "112020",
         "Marketing & sales managers"
        ],
        [
         "33",
         "110000-290000",
         "Management, business, science, & arts occupations",
         "110000-130000",
         "Management, business, & financial occupations",
         "110000",
         "Management occupations",
         "112020",
         "Marketing & sales managers"
        ],
        [
         "34",
         "110000-290000",
         "Management, business, science, & arts occupations",
         "110000-130000",
         "Management, business, & financial occupations",
         "110000",
         "Management occupations",
         "112021",
         "Marketing managers"
        ],
        [
         "35",
         "110000-290000",
         "Management, business, science, & arts occupations",
         "110000-130000",
         "Management, business, & financial occupations",
         "110000",
         "Management occupations",
         "112021",
         "Marketing managers"
        ],
        [
         "36",
         "110000-290000",
         "Management, business, science, & arts occupations",
         "110000-130000",
         "Management, business, & financial occupations",
         "110000",
         "Management occupations",
         "112021",
         "Marketing managers"
        ],
        [
         "37",
         "110000-290000",
         "Management, business, science, & arts occupations",
         "110000-130000",
         "Management, business, & financial occupations",
         "110000",
         "Management occupations",
         "112021",
         "Marketing managers"
        ],
        [
         "38",
         "110000-290000",
         "Management, business, science, & arts occupations",
         "110000-130000",
         "Management, business, & financial occupations",
         "110000",
         "Management occupations",
         "112021",
         "Marketing managers"
        ],
        [
         "39",
         "110000-290000",
         "Management, business, science, & arts occupations",
         "110000-130000",
         "Management, business, & financial occupations",
         "110000",
         "Management occupations",
         "112021",
         "Marketing managers"
        ],
        [
         "40",
         "110000-290000",
         "Management, business, science, & arts occupations",
         "110000-130000",
         "Management, business, & financial occupations",
         "110000",
         "Management occupations",
         "112022",
         "Sales managers"
        ],
        [
         "41",
         "110000-290000",
         "Management, business, science, & arts occupations",
         "110000-130000",
         "Management, business, & financial occupations",
         "110000",
         "Management occupations",
         "112022",
         "Sales managers"
        ],
        [
         "42",
         "110000-290000",
         "Management, business, science, & arts occupations",
         "110000-130000",
         "Management, business, & financial occupations",
         "110000",
         "Management occupations",
         "112022",
         "Sales managers"
        ],
        [
         "43",
         "110000-290000",
         "Management, business, science, & arts occupations",
         "110000-130000",
         "Management, business, & financial occupations",
         "110000",
         "Management occupations",
         "112022",
         "Sales managers"
        ],
        [
         "44",
         "110000-290000",
         "Management, business, science, & arts occupations",
         "110000-130000",
         "Management, business, & financial occupations",
         "110000",
         "Management occupations",
         "112022",
         "Sales managers"
        ],
        [
         "45",
         "110000-290000",
         "Management, business, science, & arts occupations",
         "110000-130000",
         "Management, business, & financial occupations",
         "110000",
         "Management occupations",
         "112022",
         "Sales managers"
        ],
        [
         "46",
         "110000-290000",
         "Management, business, science, & arts occupations",
         "110000-130000",
         "Management, business, & financial occupations",
         "110000",
         "Management occupations",
         "112030",
         "Public relations and fundraising managers"
        ],
        [
         "47",
         "110000-290000",
         "Management, business, science, & arts occupations",
         "110000-130000",
         "Management, business, & financial occupations",
         "110000",
         "Management occupations",
         "112030",
         "Public relations and fundraising managers"
        ],
        [
         "48",
         "110000-290000",
         "Management, business, science, & arts occupations",
         "110000-130000",
         "Management, business, & financial occupations",
         "110000",
         "Management occupations",
         "112030",
         "Public relations and fundraising managers"
        ],
        [
         "49",
         "110000-290000",
         "Management, business, science, & arts occupations",
         "110000-130000",
         "Management, business, & financial occupations",
         "110000",
         "Management occupations",
         "112030",
         "Public relations and fundraising managers"
        ]
       ],
       "shape": {
        "columns": 8,
        "rows": 4961
       }
      },
      "text/html": [
       "<div>\n",
       "<style scoped>\n",
       "    .dataframe tbody tr th:only-of-type {\n",
       "        vertical-align: middle;\n",
       "    }\n",
       "\n",
       "    .dataframe tbody tr th {\n",
       "        vertical-align: top;\n",
       "    }\n",
       "\n",
       "    .dataframe thead th {\n",
       "        text-align: right;\n",
       "    }\n",
       "</style>\n",
       "<table border=\"1\" class=\"dataframe\">\n",
       "  <thead>\n",
       "    <tr style=\"text-align: right;\">\n",
       "      <th></th>\n",
       "      <th>Major Occupation Group ID</th>\n",
       "      <th>Major Occupation Group</th>\n",
       "      <th>Minor Occupation Group ID</th>\n",
       "      <th>Minor Occupation Group</th>\n",
       "      <th>Broad Occupation ID</th>\n",
       "      <th>Broad Occupation</th>\n",
       "      <th>Detailed Occupation ID</th>\n",
       "      <th>Detailed Occupation</th>\n",
       "    </tr>\n",
       "  </thead>\n",
       "  <tbody>\n",
       "    <tr>\n",
       "      <th>0</th>\n",
       "      <td>110000-290000</td>\n",
       "      <td>Management, business, science, &amp; arts occupations</td>\n",
       "      <td>110000-130000</td>\n",
       "      <td>Management, business, &amp; financial occupations</td>\n",
       "      <td>110000</td>\n",
       "      <td>Management occupations</td>\n",
       "      <td>111021</td>\n",
       "      <td>General &amp; operations managers</td>\n",
       "    </tr>\n",
       "    <tr>\n",
       "      <th>1</th>\n",
       "      <td>110000-290000</td>\n",
       "      <td>Management, business, science, &amp; arts occupations</td>\n",
       "      <td>110000-130000</td>\n",
       "      <td>Management, business, &amp; financial occupations</td>\n",
       "      <td>110000</td>\n",
       "      <td>Management occupations</td>\n",
       "      <td>111021</td>\n",
       "      <td>General &amp; operations managers</td>\n",
       "    </tr>\n",
       "    <tr>\n",
       "      <th>2</th>\n",
       "      <td>110000-290000</td>\n",
       "      <td>Management, business, science, &amp; arts occupations</td>\n",
       "      <td>110000-130000</td>\n",
       "      <td>Management, business, &amp; financial occupations</td>\n",
       "      <td>110000</td>\n",
       "      <td>Management occupations</td>\n",
       "      <td>111021</td>\n",
       "      <td>General &amp; operations managers</td>\n",
       "    </tr>\n",
       "    <tr>\n",
       "      <th>3</th>\n",
       "      <td>110000-290000</td>\n",
       "      <td>Management, business, science, &amp; arts occupations</td>\n",
       "      <td>110000-130000</td>\n",
       "      <td>Management, business, &amp; financial occupations</td>\n",
       "      <td>110000</td>\n",
       "      <td>Management occupations</td>\n",
       "      <td>111021</td>\n",
       "      <td>General &amp; operations managers</td>\n",
       "    </tr>\n",
       "    <tr>\n",
       "      <th>4</th>\n",
       "      <td>110000-290000</td>\n",
       "      <td>Management, business, science, &amp; arts occupations</td>\n",
       "      <td>110000-130000</td>\n",
       "      <td>Management, business, &amp; financial occupations</td>\n",
       "      <td>110000</td>\n",
       "      <td>Management occupations</td>\n",
       "      <td>111021</td>\n",
       "      <td>General &amp; operations managers</td>\n",
       "    </tr>\n",
       "    <tr>\n",
       "      <th>...</th>\n",
       "      <td>...</td>\n",
       "      <td>...</td>\n",
       "      <td>...</td>\n",
       "      <td>...</td>\n",
       "      <td>...</td>\n",
       "      <td>...</td>\n",
       "      <td>...</td>\n",
       "      <td>...</td>\n",
       "    </tr>\n",
       "    <tr>\n",
       "      <th>4956</th>\n",
       "      <td>550000</td>\n",
       "      <td>Military specific occupations</td>\n",
       "      <td>550000</td>\n",
       "      <td>Military specific occupations</td>\n",
       "      <td>550000</td>\n",
       "      <td>Military specific occupations</td>\n",
       "      <td>559830</td>\n",
       "      <td>Military, rank not specified</td>\n",
       "    </tr>\n",
       "    <tr>\n",
       "      <th>4957</th>\n",
       "      <td>550000</td>\n",
       "      <td>Military specific occupations</td>\n",
       "      <td>550000</td>\n",
       "      <td>Military specific occupations</td>\n",
       "      <td>550000</td>\n",
       "      <td>Military specific occupations</td>\n",
       "      <td>559830</td>\n",
       "      <td>Military, rank not specified</td>\n",
       "    </tr>\n",
       "    <tr>\n",
       "      <th>4958</th>\n",
       "      <td>550000</td>\n",
       "      <td>Military specific occupations</td>\n",
       "      <td>550000</td>\n",
       "      <td>Military specific occupations</td>\n",
       "      <td>550000</td>\n",
       "      <td>Military specific occupations</td>\n",
       "      <td>559830</td>\n",
       "      <td>Military, rank not specified</td>\n",
       "    </tr>\n",
       "    <tr>\n",
       "      <th>4959</th>\n",
       "      <td>550000</td>\n",
       "      <td>Military specific occupations</td>\n",
       "      <td>550000</td>\n",
       "      <td>Military specific occupations</td>\n",
       "      <td>550000</td>\n",
       "      <td>Military specific occupations</td>\n",
       "      <td>559830</td>\n",
       "      <td>Military, rank not specified</td>\n",
       "    </tr>\n",
       "    <tr>\n",
       "      <th>4960</th>\n",
       "      <td>550000</td>\n",
       "      <td>Military specific occupations</td>\n",
       "      <td>550000</td>\n",
       "      <td>Military specific occupations</td>\n",
       "      <td>550000</td>\n",
       "      <td>Military specific occupations</td>\n",
       "      <td>559830</td>\n",
       "      <td>Military, rank not specified</td>\n",
       "    </tr>\n",
       "  </tbody>\n",
       "</table>\n",
       "<p>4961 rows × 8 columns</p>\n",
       "</div>"
      ],
      "text/plain": [
       "     Major Occupation Group ID  \\\n",
       "0                110000-290000   \n",
       "1                110000-290000   \n",
       "2                110000-290000   \n",
       "3                110000-290000   \n",
       "4                110000-290000   \n",
       "...                        ...   \n",
       "4956                    550000   \n",
       "4957                    550000   \n",
       "4958                    550000   \n",
       "4959                    550000   \n",
       "4960                    550000   \n",
       "\n",
       "                                 Major Occupation Group  \\\n",
       "0     Management, business, science, & arts occupations   \n",
       "1     Management, business, science, & arts occupations   \n",
       "2     Management, business, science, & arts occupations   \n",
       "3     Management, business, science, & arts occupations   \n",
       "4     Management, business, science, & arts occupations   \n",
       "...                                                 ...   \n",
       "4956                      Military specific occupations   \n",
       "4957                      Military specific occupations   \n",
       "4958                      Military specific occupations   \n",
       "4959                      Military specific occupations   \n",
       "4960                      Military specific occupations   \n",
       "\n",
       "     Minor Occupation Group ID                         Minor Occupation Group  \\\n",
       "0                110000-130000  Management, business, & financial occupations   \n",
       "1                110000-130000  Management, business, & financial occupations   \n",
       "2                110000-130000  Management, business, & financial occupations   \n",
       "3                110000-130000  Management, business, & financial occupations   \n",
       "4                110000-130000  Management, business, & financial occupations   \n",
       "...                        ...                                            ...   \n",
       "4956                    550000                  Military specific occupations   \n",
       "4957                    550000                  Military specific occupations   \n",
       "4958                    550000                  Military specific occupations   \n",
       "4959                    550000                  Military specific occupations   \n",
       "4960                    550000                  Military specific occupations   \n",
       "\n",
       "     Broad Occupation ID               Broad Occupation  \\\n",
       "0                 110000         Management occupations   \n",
       "1                 110000         Management occupations   \n",
       "2                 110000         Management occupations   \n",
       "3                 110000         Management occupations   \n",
       "4                 110000         Management occupations   \n",
       "...                  ...                            ...   \n",
       "4956              550000  Military specific occupations   \n",
       "4957              550000  Military specific occupations   \n",
       "4958              550000  Military specific occupations   \n",
       "4959              550000  Military specific occupations   \n",
       "4960              550000  Military specific occupations   \n",
       "\n",
       "     Detailed Occupation ID            Detailed Occupation  \n",
       "0                    111021  General & operations managers  \n",
       "1                    111021  General & operations managers  \n",
       "2                    111021  General & operations managers  \n",
       "3                    111021  General & operations managers  \n",
       "4                    111021  General & operations managers  \n",
       "...                     ...                            ...  \n",
       "4956                 559830   Military, rank not specified  \n",
       "4957                 559830   Military, rank not specified  \n",
       "4958                 559830   Military, rank not specified  \n",
       "4959                 559830   Military, rank not specified  \n",
       "4960                 559830   Military, rank not specified  \n",
       "\n",
       "[4961 rows x 8 columns]"
      ]
     },
     "execution_count": 42,
     "metadata": {},
     "output_type": "execute_result"
    }
   ],
   "source": [
    "dfCategorico"
   ]
  },
  {
   "cell_type": "code",
   "execution_count": 55,
   "id": "8500428b",
   "metadata": {},
   "outputs": [
    {
     "data": {
      "application/vnd.microsoft.datawrangler.viewer.v0+json": {
       "columns": [
        {
         "name": "Major Occupation Group",
         "rawType": "object",
         "type": "string"
        },
        {
         "name": "0",
         "rawType": "int64",
         "type": "integer"
        }
       ],
       "ref": "1f9c22b9-c6da-471c-9796-16b232949327",
       "rows": [
        [
         "Management, business, science, & arts occupations",
         "2006"
        ],
        [
         "Production, Transportation, & Material Moving Occupations",
         "884"
        ],
        [
         "Service Occupations",
         "691"
        ],
        [
         "Sales & Office Occupations",
         "672"
        ],
        [
         "Natural resources, construction, & maintenance occupations",
         "668"
        ],
        [
         "Military specific occupations",
         "40"
        ]
       ],
       "shape": {
        "columns": 1,
        "rows": 6
       }
      },
      "text/plain": [
       "Major Occupation Group\n",
       "Management, business, science, & arts occupations             2006\n",
       "Production, Transportation, & Material Moving Occupations      884\n",
       "Service Occupations                                            691\n",
       "Sales & Office Occupations                                     672\n",
       "Natural resources, construction, & maintenance occupations     668\n",
       "Military specific occupations                                   40\n",
       "dtype: int64"
      ]
     },
     "execution_count": 55,
     "metadata": {},
     "output_type": "execute_result"
    }
   ],
   "source": [
    "# verificar as grandes ocupacoes por registros:\n",
    "dfCategorico.groupby('Major Occupation Group').size().sort_values(ascending=False)"
   ]
  },
  {
   "cell_type": "code",
   "execution_count": 54,
   "id": "5de066c1",
   "metadata": {},
   "outputs": [
    {
     "data": {
      "application/vnd.microsoft.datawrangler.viewer.v0+json": {
       "columns": [
        {
         "name": "Minor Occupation Group",
         "rawType": "object",
         "type": "string"
        },
        {
         "name": "0",
         "rawType": "int64",
         "type": "integer"
        }
       ],
       "ref": "3df9b899-9e0d-405c-b8b4-f4872491fe87",
       "rows": [
        [
         "Production Occupations",
         "584"
        ],
        [
         "Management, business, & financial occupations",
         "565"
        ],
        [
         "Computer, engineering, & science occupations",
         "541"
        ],
        [
         "Education, legal, community service, arts, & media occupations",
         "533"
        ],
        [
         "Office & Administrative Support Occupations",
         "492"
        ],
        [
         "Healthcare practitioners & technical occupations",
         "367"
        ],
        [
         "Installation, maintenance, & repair occupations",
         "308"
        ],
        [
         "Transportation & Material Moving Occupations",
         "300"
        ],
        [
         "Construction & Extraction Occupations",
         "290"
        ],
        [
         "Personal Care & Service Occupations",
         "199"
        ],
        [
         "Sales & related occupations",
         "180"
        ],
        [
         "Protective service occupations",
         "172"
        ],
        [
         "Healthcare Support Occupations",
         "128"
        ],
        [
         "Food Preparation & Serving Related Occupations",
         "120"
        ],
        [
         "Building & Grounds Cleaning & Maintenance Occupations",
         "72"
        ],
        [
         "Farming, Fishing, & Forestry Occupations",
         "70"
        ],
        [
         "Military specific occupations",
         "40"
        ]
       ],
       "shape": {
        "columns": 1,
        "rows": 17
       }
      },
      "text/plain": [
       "Minor Occupation Group\n",
       "Production Occupations                                            584\n",
       "Management, business, & financial occupations                     565\n",
       "Computer, engineering, & science occupations                      541\n",
       "Education, legal, community service, arts, & media occupations    533\n",
       "Office & Administrative Support Occupations                       492\n",
       "Healthcare practitioners & technical occupations                  367\n",
       "Installation, maintenance, & repair occupations                   308\n",
       "Transportation & Material Moving Occupations                      300\n",
       "Construction & Extraction Occupations                             290\n",
       "Personal Care & Service Occupations                               199\n",
       "Sales & related occupations                                       180\n",
       "Protective service occupations                                    172\n",
       "Healthcare Support Occupations                                    128\n",
       "Food Preparation & Serving Related Occupations                    120\n",
       "Building & Grounds Cleaning & Maintenance Occupations              72\n",
       "Farming, Fishing, & Forestry Occupations                           70\n",
       "Military specific occupations                                      40\n",
       "dtype: int64"
      ]
     },
     "execution_count": 54,
     "metadata": {},
     "output_type": "execute_result"
    }
   ],
   "source": [
    "dfCategorico.groupby('Minor Occupation Group').size().sort_values(ascending=False)"
   ]
  }
 ],
 "metadata": {
  "kernelspec": {
   "display_name": ".venv",
   "language": "python",
   "name": "python3"
  },
  "language_info": {
   "codemirror_mode": {
    "name": "ipython",
    "version": 3
   },
   "file_extension": ".py",
   "mimetype": "text/x-python",
   "name": "python",
   "nbconvert_exporter": "python",
   "pygments_lexer": "ipython3",
   "version": "3.12.5"
  }
 },
 "nbformat": 4,
 "nbformat_minor": 5
}
